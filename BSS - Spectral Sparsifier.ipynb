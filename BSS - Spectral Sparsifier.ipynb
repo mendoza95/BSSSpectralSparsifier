{
 "cells": [
  {
   "cell_type": "markdown",
   "metadata": {},
   "source": [
    "# BSS Spectral Sparsifier Implementation"
   ]
  },
  {
   "cell_type": "code",
   "execution_count": 1,
   "metadata": {},
   "outputs": [],
   "source": [
    "import networkx as nx #This library allows an easier manipulation of graphs\n",
    "import matplotlib.pyplot as plt\n",
    "import numpy as np\n",
    "import numpy.linalg as LA\n",
    "import scipy as sp\n",
    "import random as rd"
   ]
  },
  {
   "cell_type": "markdown",
   "metadata": {},
   "source": [
    "## Functions for getting different kind of matrices associated to graphs"
   ]
  },
  {
   "cell_type": "code",
   "execution_count": 13,
   "metadata": {},
   "outputs": [],
   "source": [
    "#receive an integer n\n",
    "#return an undirected unweighted complete graph of n vertices\n",
    "def get_complete_graph(n):\n",
    "    Kn = nx.complete_graph(n)\n",
    "    return Kn\n",
    "\n",
    "#receive a graph G\n",
    "#return the adjacency matrix of G as numpy array object\n",
    "def get_adjacency_matrix(G):\n",
    "    A = nx.adjacency_matrix(G)\n",
    "    return A.toarray()\n",
    "\n",
    "#receive a graph G\n",
    "#return the Laplacian matrix of G as numpy array object\n",
    "def get_laplacian_matrix(G):\n",
    "    L = nx.laplacian_matrix(G)\n",
    "    return L.toarray()\n",
    "\n",
    "#receive a graph G\n",
    "#return the Signed Incidence matrix of G as numpy array object\n",
    "def get_signed_incidence_matrix(G):\n",
    "    B = nx.incidence_matrix(G, oriented=True)\n",
    "    return B.toarray()\n",
    "\n",
    "def get_weighted_diagonal_matrix(G):\n",
    "    L = get_laplacian_matrix(G)\n",
    "    n = len(G.nodes)\n",
    "    W = [] \n",
    "    for i in range(n):\n",
    "        for j in range(i+1,n):\n",
    "            W.append(np.abs(L[i,j]))\n",
    "    return np.diag(W)\n",
    "\n",
    "#receive a graph G\n",
    "#returns the vectors corresponding to every edge of G (the column vectos of the signed incidence matrix)\n",
    "def get_rank_one_laplacian_decomposition(G):\n",
    "    B = nx.incidence_matrix(G, oriented=True)\n",
    "    m = G.number_of_edges()\n",
    "    Vs = [] #vectors vi\n",
    "    for i in range(m):\n",
    "        u = B[:,i]\n",
    "        Vs.append(u.toarray())\n",
    "    return Vs"
   ]
  },
  {
   "cell_type": "markdown",
   "metadata": {},
   "source": [
    "## Specific functions of the BSS algorithm"
   ]
  },
  {
   "cell_type": "code",
   "execution_count": 79,
   "metadata": {},
   "outputs": [],
   "source": [
    "def upper_potential(A, u):\n",
    "    I = np.identity(n)\n",
    "    return np.trace(LA.inv((u*I)-A))\n",
    "\n",
    "def lower_potential(A, l):\n",
    "    I = np.identity(n)\n",
    "    return np.trace(LA.inv(A-(l*I)))\n",
    "\n",
    "def get_pseudoinverse(M):\n",
    "    return sp.linalg.pinvh(M)\n",
    "\n",
    "def get_matrix_square_root(M):\n",
    "    return sp.linalg.sqrtm(M)\n",
    "\n",
    "#Returns matrix V from proof of Theorem 1.1 from paper [2]\n",
    "def get_matrix_V(B, Lpin, W=None):\n",
    "    if W == None: return np.matmul(get_matrix_square_root(Lpin), B)#in case the graph is unweighted\n",
    "    else: return np.matmul(get_matrix_square_root(Lpin), np.matmul(B, get_square_root(W)))\n",
    "    \n",
    "def upper_barrier_shift(A, v, u, deltau):\n",
    "    I = np.identity(n)\n",
    "    pot_u = upper_potential(A, u)\n",
    "    pot_deltau = upper_potential(A, u+deltau)\n",
    "    C = LA.matrix_power((u+deltau)*I-A, -2)\n",
    "    D = LA.inv((u+deltau)*I-A)\n",
    "    return np.dot(v, np.matmul(D, v)) + (np.dot(v, np.matmul(C, v))/pot_u-pot_deltau)\n",
    "\n",
    "def lower_barrier_shift(A, v, l, deltal):\n",
    "    I = np.identity(n)\n",
    "    pot_l = lower_potential(A, l)\n",
    "    pot_deltal = lower_potential(A, l+deltal)\n",
    "    C = LA.matrix_power(A-(l+deltal)*I, -2)\n",
    "    D = LA.inv(A-(l+deltal)*I)\n",
    "    return (np.dot(v, np.matmul(C, v))/pot_deltal-pot_l) - np.dot(v, np.matmul(D, v))"
   ]
  },
  {
   "cell_type": "markdown",
   "metadata": {},
   "source": [
    "## Here we create a graph and its associated matrices"
   ]
  },
  {
   "cell_type": "code",
   "execution_count": 108,
   "metadata": {},
   "outputs": [
    {
     "name": "stdout",
     "output_type": "stream",
     "text": [
      "(15, 105)\n"
     ]
    }
   ],
   "source": [
    "n = 15\n",
    "G = get_complete_graph(n)\n",
    "L = get_laplacian_matrix(G)\n",
    "B = get_signed_incidence_matrix(G)\n",
    "Lpin = get_pseudoinverse(L)\n",
    "V = get_matrix_V(B, Lpin)\n",
    "print(V.shape)\n",
    "m = len(G.edges)"
   ]
  },
  {
   "cell_type": "markdown",
   "metadata": {},
   "source": [
    "## Here we set the parameters of the BSS algorithm"
   ]
  },
  {
   "cell_type": "code",
   "execution_count": 109,
   "metadata": {},
   "outputs": [
    {
     "name": "stdout",
     "output_type": "stream",
     "text": [
      "4\n",
      "90.0\n",
      "-30.0\n"
     ]
    }
   ],
   "source": [
    "#parameters\n",
    "eps = 1/2\n",
    "d = int(1/(eps**2))\n",
    "delta_l = 1\n",
    "delta_u = (np.sqrt(d)+1)/(np.sqrt(d)-1)\n",
    "el = 1/np.sqrt(d)\n",
    "eu = (np.sqrt(d)-1)/(d+np.sqrt(d))\n",
    "li = -n/el\n",
    "ui = n/eu\n",
    "print(d)\n",
    "print(ui)\n",
    "print(li)"
   ]
  },
  {
   "cell_type": "markdown",
   "metadata": {},
   "source": [
    "## The BSS Spectral Sparsifier algorithm"
   ]
  },
  {
   "cell_type": "code",
   "execution_count": 110,
   "metadata": {},
   "outputs": [],
   "source": [
    "def BSS(V, ui, li, delta_u, delta_l, d, n):\n",
    "    S = np.zeros(m)\n",
    "    A = np.zeros((n,n))\n",
    "    q = 1\n",
    "    while q <= d*n:\n",
    "        i = q % m\n",
    "        vi = V[:,i]\n",
    "        Ui = upper_barrier_shift(A, vi, ui, delta_u)\n",
    "        print(Ui)\n",
    "        Li = lower_barrier_shift(A, vi, li, delta_l)\n",
    "        print(Li)\n",
    "        if Ui <= Li:\n",
    "            t = (1/Ui)+(1/Li)\n",
    "            S[i] += t\n",
    "            ui += delta_u\n",
    "            li += delta_l\n",
    "            A += t*np.outer(vi,vi)\n",
    "        q += 1\n",
    "    return A, S"
   ]
  },
  {
   "cell_type": "code",
   "execution_count": 111,
   "metadata": {},
   "outputs": [
    {
     "name": "stdout",
     "output_type": "stream",
     "text": [
      "-0.15976413458203262\n",
      "-0.5042911877394636\n",
      "-0.15976413458203262\n",
      "-0.5042911877394636\n",
      "-0.15976413458203262\n",
      "-0.5042911877394636\n",
      "-0.15976413458203262\n",
      "-0.5042911877394636\n",
      "-0.15976413458203262\n",
      "-0.5042911877394636\n",
      "-0.15976413458203262\n",
      "-0.5042911877394636\n",
      "-0.15976413458203262\n",
      "-0.5042911877394636\n",
      "-0.15976413458203262\n",
      "-0.5042911877394636\n",
      "-0.15976413458203262\n",
      "-0.5042911877394636\n",
      "-0.15976413458203262\n",
      "-0.5042911877394636\n",
      "-0.15976413458203262\n",
      "-0.5042911877394636\n",
      "-0.15976413458203262\n",
      "-0.5042911877394636\n",
      "-0.15976413458203262\n",
      "-0.5042911877394636\n",
      "-0.15976413458203262\n",
      "-0.5042911877394636\n",
      "-0.15976413458203262\n",
      "-0.5042911877394636\n",
      "-0.15976413458203262\n",
      "-0.5042911877394636\n",
      "-0.15976413458203262\n",
      "-0.5042911877394636\n",
      "-0.15976413458203262\n",
      "-0.5042911877394636\n",
      "-0.15976413458203262\n",
      "-0.5042911877394636\n",
      "-0.15976413458203262\n",
      "-0.5042911877394636\n",
      "-0.15976413458203262\n",
      "-0.5042911877394636\n",
      "-0.15976413458203262\n",
      "-0.5042911877394636\n",
      "-0.15976413458203262\n",
      "-0.5042911877394636\n",
      "-0.15976413458203262\n",
      "-0.5042911877394636\n",
      "-0.15976413458203262\n",
      "-0.5042911877394636\n",
      "-0.15976413458203262\n",
      "-0.5042911877394636\n",
      "-0.15976413458203262\n",
      "-0.5042911877394636\n",
      "-0.15976413458203262\n",
      "-0.5042911877394636\n",
      "-0.15976413458203262\n",
      "-0.5042911877394636\n",
      "-0.15976413458203262\n",
      "-0.5042911877394636\n",
      "-0.15976413458203262\n",
      "-0.5042911877394636\n",
      "-0.15976413458203262\n",
      "-0.5042911877394636\n",
      "-0.15976413458203262\n",
      "-0.5042911877394636\n",
      "-0.15976413458203262\n",
      "-0.5042911877394636\n",
      "-0.15976413458203262\n",
      "-0.5042911877394636\n",
      "-0.15976413458203262\n",
      "-0.5042911877394636\n",
      "-0.15976413458203262\n",
      "-0.5042911877394636\n",
      "-0.15976413458203262\n",
      "-0.5042911877394636\n",
      "-0.15976413458203262\n",
      "-0.5042911877394636\n",
      "-0.15976413458203262\n",
      "-0.5042911877394636\n",
      "-0.15976413458203262\n",
      "-0.5042911877394636\n",
      "-0.15976413458203262\n",
      "-0.5042911877394636\n",
      "-0.15976413458203262\n",
      "-0.5042911877394636\n",
      "-0.15976413458203262\n",
      "-0.5042911877394636\n",
      "-0.15976413458203262\n",
      "-0.5042911877394636\n",
      "-0.15976413458203262\n",
      "-0.5042911877394636\n",
      "-0.15976413458203262\n",
      "-0.5042911877394636\n",
      "-0.15976413458203262\n",
      "-0.5042911877394636\n",
      "-0.15976413458203262\n",
      "-0.5042911877394636\n",
      "-0.15976413458203262\n",
      "-0.5042911877394636\n",
      "-0.15976413458203262\n",
      "-0.5042911877394636\n",
      "-0.15976413458203262\n",
      "-0.5042911877394636\n",
      "-0.15976413458203262\n",
      "-0.5042911877394636\n",
      "-0.15976413458203262\n",
      "-0.5042911877394636\n",
      "-0.15976413458203262\n",
      "-0.5042911877394636\n",
      "-0.15976413458203262\n",
      "-0.5042911877394636\n",
      "-0.15976413458203262\n",
      "-0.5042911877394636\n",
      "-0.15976413458203262\n",
      "-0.5042911877394636\n",
      "-0.15976413458203262\n",
      "-0.5042911877394636\n",
      "-0.15976413458203262\n",
      "-0.5042911877394636\n"
     ]
    }
   ],
   "source": [
    "A, S = BSS(V, ui, li, delta_u, delta_l, d, n)"
   ]
  }
 ],
 "metadata": {
  "kernelspec": {
   "display_name": "Python 3",
   "language": "python",
   "name": "python3"
  },
  "language_info": {
   "codemirror_mode": {
    "name": "ipython",
    "version": 3
   },
   "file_extension": ".py",
   "mimetype": "text/x-python",
   "name": "python",
   "nbconvert_exporter": "python",
   "pygments_lexer": "ipython3",
   "version": "3.6.9"
  }
 },
 "nbformat": 4,
 "nbformat_minor": 2
}
